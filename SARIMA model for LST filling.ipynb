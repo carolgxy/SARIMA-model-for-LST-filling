{
 "cells": [
  {
   "cell_type": "code",
   "execution_count": null,
   "id": "12571705-fd19-400b-be0d-c083320191e9",
   "metadata": {},
   "outputs": [],
   "source": [
    "import pandas as pd\n",
    "import numpy as np\n",
    "from statsmodels.tsa.statespace.sarimax import SARIMAX\n",
    "\n",
    "# Read CSV file\n",
    "file_path = \"./sample data.csv\"\n",
    "data = pd.read_csv(file_path)\n",
    "data.head()\n",
    "\n",
    "# Define SARIMAX function to train the model\n",
    "def train_sarima_model(series, order=(1, 1, 1), seasonal_order=(1, 1, 1, 4)):\n",
    "    # Fit the SARIMA model on non-NA data\n",
    "    model = SARIMAX(series.dropna(), order=order, seasonal_order=seasonal_order, enforce_stationarity=False, enforce_invertibility=False)\n",
    "    results = model.fit(disp=False)\n",
    "    return results\n",
    "\n",
    "# Fill in missing values\n",
    "def fill_missing_values(series, model_results):\n",
    "    filled_series = series.copy()\n",
    "    for i in range(len(series)):\n",
    "        if pd.isna(series.iloc[i]):\n",
    "            filled_series.iloc[i] = model_results.predict(start=i, end=i)\n",
    "    return filled_series\n",
    "\n",
    "# Get all column names\n",
    "columns = data.columns\n",
    "\n",
    "# Apply the function to each time series\n",
    "for col in columns:\n",
    "    model_results = train_sarima_model(data[col])\n",
    "    data[col] = fill_missing_values(data[col], model_results)\n",
    "\n",
    "# output data\n",
    "data.to_csv(\"./sample prediction.csv\", index=False)"
   ]
  }
 ],
 "metadata": {
  "kernelspec": {
   "display_name": "Python 3 (ipykernel)",
   "language": "python",
   "name": "python3"
  },
  "language_info": {
   "codemirror_mode": {
    "name": "ipython",
    "version": 3
   },
   "file_extension": ".py",
   "mimetype": "text/x-python",
   "name": "python",
   "nbconvert_exporter": "python",
   "pygments_lexer": "ipython3",
   "version": "3.9.18"
  },
  "widgets": {
   "application/vnd.jupyter.widget-state+json": {
    "state": {},
    "version_major": 2,
    "version_minor": 0
   }
  }
 },
 "nbformat": 4,
 "nbformat_minor": 5
}
